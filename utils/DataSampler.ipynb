{
 "cells": [
  {
   "cell_type": "code",
   "execution_count": 13,
   "metadata": {},
   "outputs": [],
   "source": [
    "import pymongo\n",
    "import os, sys\n",
    "import random\n",
    "import pandas as pd"
   ]
  },
  {
   "cell_type": "code",
   "execution_count": 50,
   "metadata": {},
   "outputs": [],
   "source": [
    "DATA_DIR = \"../data/files\"\n",
    "OUTPUT_DIR = \"../data/samples\"\n",
    "SAMPLE_SIZE = 300\n",
    "VIEWER_PREFIX = \"https://docs.google.com/viewer?url=https://student.cs.uwaterloo.ca/~c589liu/samples/\"\n",
    "URL_PREFIX = \"https://open.canada.ca/data/en/dataset/\""
   ]
  },
  {
   "cell_type": "code",
   "execution_count": 3,
   "metadata": {},
   "outputs": [
    {
     "name": "stdout",
     "output_type": "stream",
     "text": [
      "There are 13371 files after filtering\n"
     ]
    }
   ],
   "source": [
    "# only use csv files, ignore files with size < 1 KiB or >= 100 MiB\n",
    "csv_files = [f for f in os.listdir(DATA_DIR) if f.endswith(\"csv\") and os.path.getsize(os.path.join(DATA_DIR, f)) > 1024 and os.path.getsize(os.path.join(DATA_DIR, f)) <= 100L * (1024 ** 2)]\n",
    "print(\"There are\", len(csv_files), \"files after filtering\")"
   ]
  },
  {
   "cell_type": "code",
   "execution_count": 4,
   "metadata": {},
   "outputs": [],
   "source": [
    "file_uuids = [os.path.splitext(f)[0] for f in csv_files]"
   ]
  },
  {
   "cell_type": "code",
   "execution_count": 5,
   "metadata": {},
   "outputs": [],
   "source": [
    "mongo_client = pymongo.MongoClient('mongodb://127.0.0.1:27017/')\n",
    "db = mongo_client['opencanada']\n",
    "metadata_collection = db.metadata"
   ]
  },
  {
   "cell_type": "code",
   "execution_count": 6,
   "metadata": {},
   "outputs": [],
   "source": [
    "metadata = list(metadata_collection.find({\"resources.id\": {\"$in\": file_uuids}}))"
   ]
  },
  {
   "cell_type": "code",
   "execution_count": 7,
   "metadata": {},
   "outputs": [],
   "source": [
    "samples = random.choices(metadata, k=SAMPLE_SIZE)"
   ]
  },
  {
   "cell_type": "code",
   "execution_count": 8,
   "metadata": {},
   "outputs": [],
   "source": [
    "files = []\n",
    "for s in samples:\n",
    "    for r in s[\"resources\"]:\n",
    "        p = os.path.join(DATA_DIR, r[\"id\"] + \".csv\")\n",
    "        if os.path.exists(p):\n",
    "            files.append(p)"
   ]
  },
  {
   "cell_type": "code",
   "execution_count": 9,
   "metadata": {},
   "outputs": [
    {
     "data": {
      "text/plain": [
       "0"
      ]
     },
     "execution_count": 9,
     "metadata": {},
     "output_type": "execute_result"
    }
   ],
   "source": [
    "os.system(\"rm -rf %s\" % OUTPUT_DIR)\n",
    "os.system(\"mkdir %s\" % OUTPUT_DIR)"
   ]
  },
  {
   "cell_type": "code",
   "execution_count": 10,
   "metadata": {},
   "outputs": [],
   "source": [
    "for f in files:\n",
    "    os.system(\"cp %s %s\" % (f, OUTPUT_DIR))"
   ]
  },
  {
   "cell_type": "code",
   "execution_count": 66,
   "metadata": {},
   "outputs": [],
   "source": [
    "table = []\n",
    "for s in samples:\n",
    "    table.append([\"+\", s[\"title\"], \", \".join(s[\"subject\"]), s[\"date_published\"], \"\", \"\", s[\"id\"],  URL_PREFIX + s[\"id\"], \"\"])\n",
    "    for r in s[\"resources\"]:\n",
    "        p = os.path.join(DATA_DIR, r[\"id\"] + \".csv\")\n",
    "        url = VIEWER_PREFIX + r[\"id\"] + \".csv\" if os.path.exists(p) else \"\"\n",
    "        table.append([\"-\", r[\"name\"], \"\", \"\", \", \".join(r[\"language\"]), r[\"format\"], r[\"id\"], r[\"url\"], url])"
   ]
  },
  {
   "cell_type": "code",
   "execution_count": 11,
   "metadata": {},
   "outputs": [],
   "source": [
    "mongo_client.close()"
   ]
  },
  {
   "cell_type": "code",
   "execution_count": 67,
   "metadata": {},
   "outputs": [],
   "source": [
    "df = pd.DataFrame(table, columns=['', 'Name', 'Keywords', 'Date', 'Language', 'Format', 'ID', 'URL', 'Quick Preview'])"
   ]
  },
  {
   "cell_type": "code",
   "execution_count": 68,
   "metadata": {},
   "outputs": [
    {
     "data": {
      "text/html": [
       "<div>\n",
       "<style scoped>\n",
       "    .dataframe tbody tr th:only-of-type {\n",
       "        vertical-align: middle;\n",
       "    }\n",
       "\n",
       "    .dataframe tbody tr th {\n",
       "        vertical-align: top;\n",
       "    }\n",
       "\n",
       "    .dataframe thead th {\n",
       "        text-align: right;\n",
       "    }\n",
       "</style>\n",
       "<table border=\"1\" class=\"dataframe\">\n",
       "  <thead>\n",
       "    <tr style=\"text-align: right;\">\n",
       "      <th></th>\n",
       "      <th></th>\n",
       "      <th>Name</th>\n",
       "      <th>Keywords</th>\n",
       "      <th>Date</th>\n",
       "      <th>Language</th>\n",
       "      <th>Format</th>\n",
       "      <th>ID</th>\n",
       "      <th>URL</th>\n",
       "      <th>Quick Preview</th>\n",
       "    </tr>\n",
       "  </thead>\n",
       "  <tbody>\n",
       "    <tr>\n",
       "      <th>0</th>\n",
       "      <td>+</td>\n",
       "      <td>Thawing area</td>\n",
       "      <td>form_descriptors, nature_and_environment, scie...</td>\n",
       "      <td>2017-01-31 00:00:00</td>\n",
       "      <td></td>\n",
       "      <td></td>\n",
       "      <td>028d9f45-17ee-44d2-995f-035ef7184633</td>\n",
       "      <td>https://open.canada.ca/data/en/dataset/028d9f4...</td>\n",
       "      <td></td>\n",
       "    </tr>\n",
       "    <tr>\n",
       "      <th>1</th>\n",
       "      <td>-</td>\n",
       "      <td>Thawing area</td>\n",
       "      <td></td>\n",
       "      <td></td>\n",
       "      <td>fr</td>\n",
       "      <td>CSV</td>\n",
       "      <td>b02a4d90-166e-4c2d-a346-a52f1a104861</td>\n",
       "      <td>https://ws.mapserver.transports.gouv.qc.ca/swt...</td>\n",
       "      <td>https://docs.google.com/viewer?url=https://stu...</td>\n",
       "    </tr>\n",
       "    <tr>\n",
       "      <th>2</th>\n",
       "      <td>-</td>\n",
       "      <td>Thawing area</td>\n",
       "      <td></td>\n",
       "      <td></td>\n",
       "      <td>fr</td>\n",
       "      <td>GEOJSON</td>\n",
       "      <td>5be02c19-dbf1-4c6f-9b7d-c5d99c784b66</td>\n",
       "      <td>https://ws.mapserver.transports.gouv.qc.ca/swt...</td>\n",
       "      <td></td>\n",
       "    </tr>\n",
       "    <tr>\n",
       "      <th>3</th>\n",
       "      <td>-</td>\n",
       "      <td>Thawing area</td>\n",
       "      <td></td>\n",
       "      <td></td>\n",
       "      <td>fr</td>\n",
       "      <td>GPKG</td>\n",
       "      <td>bddf7132-e16c-473d-8692-10e1e5f791d7</td>\n",
       "      <td>https://ws.mapserver.transports.gouv.qc.ca/swt...</td>\n",
       "      <td></td>\n",
       "    </tr>\n",
       "    <tr>\n",
       "      <th>4</th>\n",
       "      <td>-</td>\n",
       "      <td>Thawing area</td>\n",
       "      <td></td>\n",
       "      <td></td>\n",
       "      <td>fr</td>\n",
       "      <td>HTML</td>\n",
       "      <td>469c744e-e9ff-4909-9e0b-1ea0e9b44a31</td>\n",
       "      <td>https://geoegl.msp.gouv.qc.ca/igo2/apercu-qc/?...</td>\n",
       "      <td></td>\n",
       "    </tr>\n",
       "    <tr>\n",
       "      <th>...</th>\n",
       "      <td>...</td>\n",
       "      <td>...</td>\n",
       "      <td>...</td>\n",
       "      <td>...</td>\n",
       "      <td>...</td>\n",
       "      <td>...</td>\n",
       "      <td>...</td>\n",
       "      <td>...</td>\n",
       "      <td>...</td>\n",
       "    </tr>\n",
       "    <tr>\n",
       "      <th>2467</th>\n",
       "      <td>-</td>\n",
       "      <td>Population and dwelling counts, for Canada and...</td>\n",
       "      <td></td>\n",
       "      <td></td>\n",
       "      <td>fr</td>\n",
       "      <td>CSV</td>\n",
       "      <td>b32ed8e5-d91a-4014-83ba-37b87ce74614</td>\n",
       "      <td>http://www12.statcan.gc.ca/census-recensement/...</td>\n",
       "      <td>https://docs.google.com/viewer?url=https://stu...</td>\n",
       "    </tr>\n",
       "    <tr>\n",
       "      <th>2468</th>\n",
       "      <td>-</td>\n",
       "      <td>Population and dwelling counts, for Canada and...</td>\n",
       "      <td></td>\n",
       "      <td></td>\n",
       "      <td>en</td>\n",
       "      <td>other</td>\n",
       "      <td>9951f98f-30d6-47e3-9ab2-598e2d755d4b</td>\n",
       "      <td>http://www12.statcan.gc.ca/census-recensement/...</td>\n",
       "      <td></td>\n",
       "    </tr>\n",
       "    <tr>\n",
       "      <th>2469</th>\n",
       "      <td>-</td>\n",
       "      <td>Population and dwelling counts, for Canada and...</td>\n",
       "      <td></td>\n",
       "      <td></td>\n",
       "      <td>fr</td>\n",
       "      <td>other</td>\n",
       "      <td>f1ffce13-7003-4d6d-9e95-ebba33a8bf30</td>\n",
       "      <td>http://www12.statcan.gc.ca/census-recensement/...</td>\n",
       "      <td></td>\n",
       "    </tr>\n",
       "    <tr>\n",
       "      <th>2470</th>\n",
       "      <td>-</td>\n",
       "      <td>Supporting Document</td>\n",
       "      <td></td>\n",
       "      <td></td>\n",
       "      <td>en</td>\n",
       "      <td>HTML</td>\n",
       "      <td>ca0cdcac-b45e-495a-81e3-fc51b8212cb1</td>\n",
       "      <td>http://www12.statcan.gc.ca/census-recensement/...</td>\n",
       "      <td></td>\n",
       "    </tr>\n",
       "    <tr>\n",
       "      <th>2471</th>\n",
       "      <td>-</td>\n",
       "      <td>Supporting Document</td>\n",
       "      <td></td>\n",
       "      <td></td>\n",
       "      <td>fr</td>\n",
       "      <td>HTML</td>\n",
       "      <td>47385d37-5bb0-4a2f-a103-68274cb4d831</td>\n",
       "      <td>http://www12.statcan.gc.ca/census-recensement/...</td>\n",
       "      <td></td>\n",
       "    </tr>\n",
       "  </tbody>\n",
       "</table>\n",
       "<p>2472 rows × 9 columns</p>\n",
       "</div>"
      ],
      "text/plain": [
       "                                                      Name  \\\n",
       "0     +                                       Thawing area   \n",
       "1     -                                       Thawing area   \n",
       "2     -                                       Thawing area   \n",
       "3     -                                       Thawing area   \n",
       "4     -                                       Thawing area   \n",
       "...  ..                                                ...   \n",
       "2467  -  Population and dwelling counts, for Canada and...   \n",
       "2468  -  Population and dwelling counts, for Canada and...   \n",
       "2469  -  Population and dwelling counts, for Canada and...   \n",
       "2470  -                                Supporting Document   \n",
       "2471  -                                Supporting Document   \n",
       "\n",
       "                                               Keywords                 Date  \\\n",
       "0     form_descriptors, nature_and_environment, scie...  2017-01-31 00:00:00   \n",
       "1                                                                              \n",
       "2                                                                              \n",
       "3                                                                              \n",
       "4                                                                              \n",
       "...                                                 ...                  ...   \n",
       "2467                                                                           \n",
       "2468                                                                           \n",
       "2469                                                                           \n",
       "2470                                                                           \n",
       "2471                                                                           \n",
       "\n",
       "     Language   Format                                    ID  \\\n",
       "0                       028d9f45-17ee-44d2-995f-035ef7184633   \n",
       "1          fr      CSV  b02a4d90-166e-4c2d-a346-a52f1a104861   \n",
       "2          fr  GEOJSON  5be02c19-dbf1-4c6f-9b7d-c5d99c784b66   \n",
       "3          fr     GPKG  bddf7132-e16c-473d-8692-10e1e5f791d7   \n",
       "4          fr     HTML  469c744e-e9ff-4909-9e0b-1ea0e9b44a31   \n",
       "...       ...      ...                                   ...   \n",
       "2467       fr      CSV  b32ed8e5-d91a-4014-83ba-37b87ce74614   \n",
       "2468       en    other  9951f98f-30d6-47e3-9ab2-598e2d755d4b   \n",
       "2469       fr    other  f1ffce13-7003-4d6d-9e95-ebba33a8bf30   \n",
       "2470       en     HTML  ca0cdcac-b45e-495a-81e3-fc51b8212cb1   \n",
       "2471       fr     HTML  47385d37-5bb0-4a2f-a103-68274cb4d831   \n",
       "\n",
       "                                                    URL  \\\n",
       "0     https://open.canada.ca/data/en/dataset/028d9f4...   \n",
       "1     https://ws.mapserver.transports.gouv.qc.ca/swt...   \n",
       "2     https://ws.mapserver.transports.gouv.qc.ca/swt...   \n",
       "3     https://ws.mapserver.transports.gouv.qc.ca/swt...   \n",
       "4     https://geoegl.msp.gouv.qc.ca/igo2/apercu-qc/?...   \n",
       "...                                                 ...   \n",
       "2467  http://www12.statcan.gc.ca/census-recensement/...   \n",
       "2468  http://www12.statcan.gc.ca/census-recensement/...   \n",
       "2469  http://www12.statcan.gc.ca/census-recensement/...   \n",
       "2470  http://www12.statcan.gc.ca/census-recensement/...   \n",
       "2471  http://www12.statcan.gc.ca/census-recensement/...   \n",
       "\n",
       "                                          Quick Preview  \n",
       "0                                                        \n",
       "1     https://docs.google.com/viewer?url=https://stu...  \n",
       "2                                                        \n",
       "3                                                        \n",
       "4                                                        \n",
       "...                                                 ...  \n",
       "2467  https://docs.google.com/viewer?url=https://stu...  \n",
       "2468                                                     \n",
       "2469                                                     \n",
       "2470                                                     \n",
       "2471                                                     \n",
       "\n",
       "[2472 rows x 9 columns]"
      ]
     },
     "execution_count": 68,
     "metadata": {},
     "output_type": "execute_result"
    }
   ],
   "source": [
    "df"
   ]
  },
  {
   "cell_type": "code",
   "execution_count": 69,
   "metadata": {},
   "outputs": [],
   "source": [
    "df.to_csv(\"../../data/samples.csv\", index=False)"
   ]
  },
  {
   "cell_type": "code",
   "execution_count": null,
   "metadata": {},
   "outputs": [],
   "source": []
  }
 ],
 "metadata": {
  "interpreter": {
   "hash": "aee8b7b246df8f9039afb4144a1f6fd8d2ca17a180786b69acc140d282b71a49"
  },
  "kernelspec": {
   "display_name": "Python 3.9.7 64-bit",
   "name": "python3"
  },
  "language_info": {
   "codemirror_mode": {
    "name": "ipython",
    "version": 3
   },
   "file_extension": ".py",
   "mimetype": "text/x-python",
   "name": "python",
   "nbconvert_exporter": "python",
   "pygments_lexer": "ipython3",
   "version": "3.9.7"
  },
  "orig_nbformat": 4
 },
 "nbformat": 4,
 "nbformat_minor": 2
}
