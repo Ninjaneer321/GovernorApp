{
 "cells": [
  {
   "cell_type": "code",
   "execution_count": 1,
   "metadata": {},
   "outputs": [],
   "source": [
    "import pandas as pd\n",
    "import pymongo\n",
    "import matplotlib.pyplot as plt\n",
    "from tqdm import tqdm\n",
    "import numpy as np\n",
    "import sys\n",
    "import os\n",
    "import itertools\n",
    "import json"
   ]
  },
  {
   "cell_type": "code",
   "execution_count": 2,
   "metadata": {},
   "outputs": [],
   "source": [
    "DB_URI = \"mongodb://127.0.0.1\"\n",
    "METRICS = \"containment_min_score\"\n",
    "SET_SIMILARITY_THRESHOLD = 0.0\n",
    "UNION_THRESHOLD = 0.0\n",
    "CHUNK_SIZE = 1000"
   ]
  },
  {
   "cell_type": "code",
   "execution_count": 3,
   "metadata": {},
   "outputs": [],
   "source": [
    "mongo_client = pymongo.MongoClient(DB_URI)\n",
    "db = mongo_client['opencanada']\n",
    "setoverlapresults_collection = db[\"setoverlapresults\"]\n",
    "inferredstats_collection = db[\"inferredstats\"]\n",
    "inferredcolumnstats_collection = db[\"inferredcolumnstats\"]\n",
    "metadata_collection = db[\"metadata\"]\n",
    "keyjoinscores_collection = db[\"keyjoinscores\"]\n",
    "usecasediscoveries_collection = db[\"usecasediscoveries\"]"
   ]
  },
  {
   "cell_type": "code",
   "execution_count": 4,
   "metadata": {},
   "outputs": [],
   "source": [
    "inferredstats_fields = {}\n",
    "for i in inferredstats_collection.find({}):\n",
    "    fields = []\n",
    "    for f in i['schema']['fields']:\n",
    "        fields.append(f['name'].lower())\n",
    "    fields.sort()\n",
    "    inferredstats_fields[i['uuid']] = fields"
   ]
  },
  {
   "cell_type": "code",
   "execution_count": 5,
   "metadata": {},
   "outputs": [
    {
     "name": "stderr",
     "output_type": "stream",
     "text": [
      "100%|██████████| 112267620/112267620 [01:02<00:00, 1787976.35it/s]\n"
     ]
    }
   ],
   "source": [
    "combs = list(itertools.combinations(sorted(list(inferredstats_fields.keys())), 2))\n",
    "results = []\n",
    "for t1, t2 in tqdm(combs):\n",
    "    fields_t1 = inferredstats_fields[t1]\n",
    "    fields_t2 = inferredstats_fields[t2]\n",
    "    is_same_schema = fields_t1 == fields_t2\n",
    "    if is_same_schema:\n",
    "        results.append({\n",
    "            'table_1': t1,\n",
    "            'table_2': t2,\n",
    "            'is_same_schema': is_same_schema\n",
    "        })\n",
    "schemas_hash = {}\n",
    "for (k, v) in inferredstats_fields.items():\n",
    "    hash_key = json.dumps(v)\n",
    "    if hash_key not in schemas_hash:\n",
    "        schemas_hash[hash_key] = []\n",
    "    schemas_hash[hash_key].append(k)\n",
    "groups = list(schemas_hash.values())\n",
    "groups_more_than_one = [g for g in groups if len(g) > 1]"
   ]
  },
  {
   "cell_type": "code",
   "execution_count": 6,
   "metadata": {},
   "outputs": [],
   "source": [
    "resources_hash = {}\n",
    "for i in metadata_collection.aggregate([{'$match': {'resources.format': 'CSV'}}, {'$unwind': '$resources'}, {'$match': {'resources.format': 'CSV'}}]):\n",
    "    resources_hash[i['resources']['id']] = i['resources']"
   ]
  },
  {
   "cell_type": "code",
   "execution_count": 7,
   "metadata": {},
   "outputs": [],
   "source": [
    "def is_same_language(uuid1, uuid2):\n",
    "    res_1 = resources_hash[uuid1]\n",
    "    res_2 = resources_hash[uuid2]\n",
    "    # get intersection of languages\n",
    "    languages_1 = set(res_1['language'])\n",
    "    languages_2 = set(res_2['language'])\n",
    "    intersection = languages_1.intersection(languages_2)\n",
    "    return len(intersection) > 0"
   ]
  },
  {
   "cell_type": "code",
   "execution_count": 8,
   "metadata": {},
   "outputs": [],
   "source": [
    "def is_same_schema(uuid1, uuid2):\n",
    "    fields_1 = inferredstats_fields[uuid1]\n",
    "    fields_2 = inferredstats_fields[uuid2]\n",
    "    return fields_1 == fields_2"
   ]
  },
  {
   "cell_type": "code",
   "execution_count": 9,
   "metadata": {},
   "outputs": [
    {
     "name": "stderr",
     "output_type": "stream",
     "text": [
      "100%|██████████| 1409/1409 [09:57<00:00,  2.36it/s] \n"
     ]
    }
   ],
   "source": [
    "groups_joinable = []\n",
    "for group in tqdm(groups_more_than_one):\n",
    "    joinable_dict = {}\n",
    "    for uuid in group:\n",
    "        joinables = []\n",
    "        for joinable in keyjoinscores_collection.find({\n",
    "            'query_uuid': uuid, \n",
    "            METRICS: {'$gte': SET_SIMILARITY_THRESHOLD}}):\n",
    "            if not is_same_language(uuid, joinable['target_uuid']):\n",
    "                continue\n",
    "            if is_same_schema(uuid, joinable['target_uuid']):\n",
    "                continue\n",
    "            joinables.append(joinable)\n",
    "        if len(joinables) == 0:\n",
    "            continue\n",
    "        joinable_scores_dict = {j['target_uuid']: j[METRICS] for j in joinables}\n",
    "        joinable_uuids = [j['target_uuid'] for j in joinables]\n",
    "\n",
    "        curr_joinable_dict = {}\n",
    "        for target_uuid in joinable_uuids:\n",
    "            fields = inferredstats_fields[target_uuid]\n",
    "            curr_joinable_dict[target_uuid] = {\n",
    "                'fields': fields, \n",
    "                'score': joinable_scores_dict[target_uuid]}\n",
    "        joinable_dict[uuid] = curr_joinable_dict\n",
    "    if(len(joinable_dict) == 0):\n",
    "        continue\n",
    "    groups_joinable.append(joinable_dict)"
   ]
  },
  {
   "cell_type": "code",
   "execution_count": 10,
   "metadata": {},
   "outputs": [
    {
     "name": "stderr",
     "output_type": "stream",
     "text": [
      "100%|██████████| 727/727 [00:38<00:00, 18.72it/s] \n"
     ]
    }
   ],
   "source": [
    "output = []\n",
    "for group in tqdm(groups_joinable):\n",
    "    schemas_groups_dict = {}\n",
    "    for query_uuid, target_schemas in group.items():\n",
    "        for target_uuid, target_schema in target_schemas.items():\n",
    "            hash_key = json.dumps(target_schema['fields'])\n",
    "            if hash_key not in schemas_groups_dict:\n",
    "                schemas_groups_dict[hash_key] = {}\n",
    "            if query_uuid not in schemas_groups_dict[hash_key] or schemas_groups_dict[hash_key][query_uuid]['score'] < target_schema['score']:\n",
    "                schemas_groups_dict[hash_key][query_uuid] = {\n",
    "                    'target_uuid': target_uuid, 'score': target_schema['score']}\n",
    "    for schema_group in schemas_groups_dict.values():\n",
    "        if len(schema_group) < 2:\n",
    "            continue\n",
    "        joinable_percentage = len(schema_group) / len(group)\n",
    "        if joinable_percentage < UNION_THRESHOLD:\n",
    "            continue\n",
    "        output_dict = {\"union\": [], \"joinable_percentage\": joinable_percentage}\n",
    "        for query_uuid, target in schema_group.items():\n",
    "            target_uuid = target['target_uuid']\n",
    "            score = target['score']\n",
    "            joinable_pair = keyjoinscores_collection.find(\n",
    "                {\"query_uuid\": query_uuid, \"target_uuid\": target_uuid}).sort([(METRICS, -1)]).limit(1).next()\n",
    "            output_dict[\"union\"].append({\n",
    "                \"join\": {\n",
    "                    \"query_uuid\": query_uuid,\n",
    "                    \"target_uuid\": target_uuid,\n",
    "                    \"query_index\": joinable_pair[\"query_index\"],\n",
    "                    \"target_index\": joinable_pair[\"target_index\"],\n",
    "                },\n",
    "                \"score\": joinable_pair[METRICS]\n",
    "            })\n",
    "        if(len(output_dict[\"union\"])) == 0:\n",
    "            continue\n",
    "        output.append(output_dict)\n"
   ]
  },
  {
   "cell_type": "code",
   "execution_count": 11,
   "metadata": {},
   "outputs": [
    {
     "data": {
      "text/plain": [
       "<pymongo.results.InsertManyResult at 0x2dea0fb00>"
      ]
     },
     "execution_count": 11,
     "metadata": {},
     "output_type": "execute_result"
    }
   ],
   "source": [
    "usecasediscoveries_collection.delete_many({})\n",
    "usecasediscoveries_collection.insert_many(output)"
   ]
  },
  {
   "cell_type": "code",
   "execution_count": null,
   "metadata": {},
   "outputs": [],
   "source": []
  }
 ],
 "metadata": {
  "interpreter": {
   "hash": "aee8b7b246df8f9039afb4144a1f6fd8d2ca17a180786b69acc140d282b71a49"
  },
  "kernelspec": {
   "display_name": "Python 3.9.10 64-bit",
   "language": "python",
   "name": "python3"
  },
  "language_info": {
   "codemirror_mode": {
    "name": "ipython",
    "version": 3
   },
   "file_extension": ".py",
   "mimetype": "text/x-python",
   "name": "python",
   "nbconvert_exporter": "python",
   "pygments_lexer": "ipython3",
   "version": "3.9.10"
  },
  "orig_nbformat": 4
 },
 "nbformat": 4,
 "nbformat_minor": 2
}
