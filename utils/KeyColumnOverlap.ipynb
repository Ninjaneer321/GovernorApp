{
 "cells": [
  {
   "cell_type": "code",
   "execution_count": 1,
   "metadata": {},
   "outputs": [],
   "source": [
    "import pymongo\n",
    "import pandas as pd\n",
    "from tqdm import tqdm"
   ]
  },
  {
   "cell_type": "code",
   "execution_count": 2,
   "metadata": {},
   "outputs": [],
   "source": [
    "MIN_UNIQUE_VALUE = 2\n",
    "MIN_UNIQUENESS_SCORE = 0.6"
   ]
  },
  {
   "cell_type": "code",
   "execution_count": 3,
   "metadata": {},
   "outputs": [],
   "source": [
    "mongo_client = pymongo.MongoClient('mongodb://127.0.0.1:27017/')\n",
    "db = mongo_client['opencanada']\n",
    "setoverlapresults_collection = db[\"setoverlapresults\"]\n",
    "inferredstats_collection = db[\"inferredstats\"]\n",
    "inferredcolumnstats_collection = db[\"inferredcolumnstats\"]\n",
    "metadata_collection = db[\"metadata\"]"
   ]
  },
  {
   "cell_type": "code",
   "execution_count": 4,
   "metadata": {},
   "outputs": [],
   "source": [
    "cols = list(inferredcolumnstats_collection.find({\n",
    "    \"is_all_null\": False,\n",
    "    \"unique_values_count\": {\"$gte\": MIN_UNIQUE_VALUE},\n",
    "    \"uniqueness_score\": {\"$gte\": MIN_UNIQUENESS_SCORE},\n",
    "}))"
   ]
  },
  {
   "cell_type": "code",
   "execution_count": 5,
   "metadata": {},
   "outputs": [
    {
     "name": "stderr",
     "output_type": "stream",
     "text": [
      "100%|██████████| 78870/78870 [00:15<00:00, 4985.52it/s]\n"
     ]
    }
   ],
   "source": [
    "metadata_dict = {}\n",
    "for c in tqdm(cols):\n",
    "    if c['uuid'] not in metadata_dict:\n",
    "        metadata_dict[c['uuid']] = metadata_collection.find_one({\"resources.id\": c['uuid']})"
   ]
  },
  {
   "cell_type": "code",
   "execution_count": 7,
   "metadata": {},
   "outputs": [
    {
     "name": "stderr",
     "output_type": "stream",
     "text": [
      "  6%|▌         | 4770/78870 [03:28<18:55, 65.28it/s]   "
     ]
    }
   ],
   "source": [
    "candidate_pairs = []\n",
    "for c in tqdm(cols):\n",
    "    for r in metadata_dict[c['uuid']]['resources']:\n",
    "        if r['id'] == c['uuid']:\n",
    "            continue\n",
    "        if r['format'].lower() != 'csv':\n",
    "            continue\n",
    "        candidate_cols = inferredcolumnstats_collection.find({\n",
    "            \"uuid\": r[\"id\"], \n",
    "            \"is_all_null\": False,  \n",
    "            \"unique_values_count\": {\"$gte\": MIN_UNIQUE_VALUE}\n",
    "        })\n",
    "        for cc in candidate_cols:\n",
    "            candidate_pairs.append({\n",
    "                \"source\": {\n",
    "                    \"uuid\": c[\"uuid\"],\n",
    "                    \"index\": c[\"index\"]\n",
    "                },\n",
    "                \"target\": {\n",
    "                    \"uuid\": cc[\"uuid\"],\n",
    "                    \"index\": cc[\"index\"]\n",
    "                }\n",
    "            })"
   ]
  },
  {
   "cell_type": "code",
   "execution_count": 7,
   "metadata": {},
   "outputs": [],
   "source": [
    "uuid_set = set()\n",
    "for cc in candidate_pairs:\n",
    "    uuid_set.add(cc[\"source\"][\"uuid\"])\n",
    "    uuid_set.add(cc[\"target\"][\"uuid\"])"
   ]
  },
  {
   "cell_type": "code",
   "execution_count": 8,
   "metadata": {},
   "outputs": [],
   "source": [
    "mongo_client.close()"
   ]
  },
  {
   "cell_type": "code",
   "execution_count": 9,
   "metadata": {},
   "outputs": [],
   "source": [
    "import os\n",
    "BASE_DIR = \"/mnt/d/OpenCanadaDataCrawler/data/converted_files\"\n",
    "\n",
    "get_uuid_from_path = lambda p : os.path.splitext(os.path.basename(p))[0]\n",
    "get_path_from_uuid = lambda u : os.path.join(BASE_DIR, \"%s.csv\" % u)"
   ]
  },
  {
   "cell_type": "code",
   "execution_count": 10,
   "metadata": {},
   "outputs": [],
   "source": [
    "def read_file(f):\n",
    "    full_path = f\n",
    "    uuid = get_uuid_from_path(full_path)\n",
    "    try:\n",
    "        sets = []\n",
    "        df = pd.read_csv(full_path, low_memory=False)\n",
    "        df = df.applymap(lambda s: s.lower().strip() if type(s) == str else s)\n",
    "        for c in df.columns:\n",
    "            sets.append(set(df[c].unique()))\n",
    "        return {\"uuid\": uuid, \"sets\": sets}\n",
    "    except:\n",
    "        return"
   ]
  },
  {
   "cell_type": "code",
   "execution_count": 11,
   "metadata": {},
   "outputs": [],
   "source": [
    "paths = [get_path_from_uuid(u) for u in uuid_set]"
   ]
  },
  {
   "cell_type": "code",
   "execution_count": 12,
   "metadata": {},
   "outputs": [
    {
     "name": "stderr",
     "output_type": "stream",
     "text": [
      "100%|██████████| 8955/8955 [03:14<00:00, 46.03it/s] \n"
     ]
    }
   ],
   "source": [
    "from multiprocessing import Pool\n",
    "\n",
    "NUM_PROCESSES = 44\n",
    "\n",
    "column_sets = {}\n",
    "\n",
    "with Pool(processes=NUM_PROCESSES) as pool:\n",
    "    for data in tqdm(pool.imap_unordered(read_file, paths), total=len(paths)):    \n",
    "        if data is not None:\n",
    "            column_sets[data[\"uuid\"]] = data[\"sets\"]\n",
    "        pass"
   ]
  },
  {
   "cell_type": "code",
   "execution_count": 13,
   "metadata": {},
   "outputs": [],
   "source": [
    "def get_stats(pair):\n",
    "    try:\n",
    "        source = pair['source']\n",
    "        target = pair['target']\n",
    "        source_set = column_sets[source['uuid']][source['index']]\n",
    "        target_set = column_sets[target['uuid']][target['index']]\n",
    "        intersection_size = len(source_set.intersection(target_set))\n",
    "        if intersection_size == 0:\n",
    "            return None\n",
    "        return {\n",
    "            \"union_size\": len(source_set.union(target_set)),\n",
    "            \"intersection_size\": intersection_size,\n",
    "            \"pair\": pair\n",
    "        }\n",
    "    except:\n",
    "        return None"
   ]
  },
  {
   "cell_type": "code",
   "execution_count": 14,
   "metadata": {},
   "outputs": [
    {
     "name": "stderr",
     "output_type": "stream",
     "text": [
      "100%|██████████| 42713149/42713149 [4:02:48<00:00, 2931.94it/s]   \n"
     ]
    }
   ],
   "source": [
    "NUM_PROCESSES = 44\n",
    "\n",
    "results = []\n",
    "\n",
    "with Pool(processes=NUM_PROCESSES) as pool:\n",
    "    for data in tqdm(pool.imap_unordered(get_stats, candidate_pairs), total=len(candidate_pairs)):    \n",
    "        if data is not None:\n",
    "            results.append(data)\n",
    "        pass"
   ]
  },
  {
   "cell_type": "code",
   "execution_count": 15,
   "metadata": {},
   "outputs": [],
   "source": [
    "import json\n",
    "with open(\"key_overlaps.json\", \"w\") as f:\n",
    "    json.dump(results, f)"
   ]
  },
  {
   "cell_type": "code",
   "execution_count": 16,
   "metadata": {},
   "outputs": [
    {
     "data": {
      "text/plain": [
       "64"
      ]
     },
     "execution_count": 16,
     "metadata": {},
     "output_type": "execute_result"
    }
   ],
   "source": [
    "del candidate_pairs\n",
    "del column_sets\n",
    "import gc\n",
    "gc.collect()"
   ]
  },
  {
   "cell_type": "code",
   "execution_count": 17,
   "metadata": {},
   "outputs": [
    {
     "name": "stderr",
     "output_type": "stream",
     "text": [
      "100%|██████████| 6788570/6788570 [00:18<00:00, 374984.99it/s]\n"
     ]
    }
   ],
   "source": [
    "results_cols_set = set()\n",
    "for r in tqdm(results):\n",
    "    pair = r['pair']\n",
    "    results_cols_set.add((pair['source']['uuid'], pair['source']['index']))\n",
    "    results_cols_set.add((pair['target']['uuid'], pair['target']['index']))"
   ]
  },
  {
   "cell_type": "code",
   "execution_count": 18,
   "metadata": {},
   "outputs": [
    {
     "name": "stderr",
     "output_type": "stream",
     "text": [
      "100%|██████████| 92379/92379 [00:58<00:00, 1585.65it/s]\n"
     ]
    }
   ],
   "source": [
    "mongo_client = pymongo.MongoClient('mongodb://127.0.0.1:27017/')\n",
    "db = mongo_client['opencanada']\n",
    "inferredcolumnstats_collection = db[\"inferredcolumnstats\"]\n",
    "\n",
    "col_stats_dict = {}\n",
    "for r in tqdm(results_cols_set):\n",
    "    col = inferredcolumnstats_collection.find_one({\"uuid\": r[0], \"index\": r[1]})\n",
    "    if r[0] not in col_stats_dict:\n",
    "        col_stats_dict[r[0]] = {}\n",
    "    col_stats_dict[r[0]][r[1]] = col"
   ]
  },
  {
   "cell_type": "code",
   "execution_count": 19,
   "metadata": {},
   "outputs": [],
   "source": [
    "mongo_client.close()"
   ]
  },
  {
   "cell_type": "code",
   "execution_count": 20,
   "metadata": {},
   "outputs": [],
   "source": [
    "import math\n",
    "def jaccard(intersection_size, union_size):\n",
    "    # intersection size divided by union size\n",
    "    return intersection_size / union_size\n",
    "\n",
    "def cosine(intersection_size, query_size, target_size):\n",
    "    # intersection size divided by square root of the product of sizes\n",
    "    return intersection_size / math.sqrt(query_size * target_size)\n",
    "\n",
    "def containment(intersection_size, query_size):\n",
    "    # intersection size divided by the size of the query set\n",
    "    return intersection_size / query_size\n",
    "\n",
    "def containment_min(intersection_size, query_size, target_size):\n",
    "    # intersection size divided by the minimal size of the query set and target set\n",
    "    return intersection_size / min(query_size, target_size)\n",
    "\n",
    "def containment_max(intersection_size, query_size, target_size):\n",
    "    # intersection size divided by the maximal size of the query set and target set\n",
    "    return intersection_size / max(query_size, target_size)"
   ]
  },
  {
   "cell_type": "code",
   "execution_count": 21,
   "metadata": {},
   "outputs": [
    {
     "name": "stderr",
     "output_type": "stream",
     "text": [
      "100%|██████████| 6788570/6788570 [00:50<00:00, 134830.49it/s]\n"
     ]
    }
   ],
   "source": [
    "scores = []\n",
    "for r in tqdm(results):\n",
    "    query = r['pair']['source']\n",
    "    target = r['pair']['target']\n",
    "    query_unique_count = col_stats_dict[query['uuid']][query['index']]['unique_values_count']\n",
    "    target_unique_count = col_stats_dict[target['uuid']][target['index']]['unique_values_count']\n",
    "    query_count = col_stats_dict[query['uuid']][query['index']]['count']\n",
    "    target_count = col_stats_dict[target['uuid']][target['index']]['count']\n",
    "    intersection_size = r['intersection_size']\n",
    "    union_size = r['union_size']\n",
    "    \n",
    "    jaccard_score = jaccard(intersection_size, union_size)\n",
    "    cosine_score = cosine(intersection_size, query_unique_count, target_unique_count)\n",
    "    containment_score = containment(intersection_size, query_unique_count)\n",
    "    containment_min_score = containment_min(intersection_size, query_unique_count, target_unique_count)\n",
    "    containment_max_score = containment_max(intersection_size, query_unique_count, target_unique_count)\n",
    "    scores.append({\n",
    "        \"query_uuid\": query['uuid'],\n",
    "        \"query_index\": query['index'],\n",
    "        \"target_uuid\": target['uuid'],\n",
    "        \"target_index\": target['index'],\n",
    "        \"query_unique_count\": query_unique_count,\n",
    "        \"target_unique_count\": target_unique_count,\n",
    "        \"query_count\": query_count,\n",
    "        \"target_count\": target_count,\n",
    "        \"intersection_size\": intersection_size,\n",
    "        \"union_size\": union_size,\n",
    "        \"jaccard_score\": jaccard_score,\n",
    "        \"cosine_score\": cosine_score,\n",
    "        \"containment_score\": containment_score,\n",
    "        \"containment_min_score\": containment_min_score,\n",
    "        \"containment_max_score\": containment_max_score\n",
    "    })\n"
   ]
  },
  {
   "cell_type": "code",
   "execution_count": 22,
   "metadata": {},
   "outputs": [],
   "source": [
    "df = pd.DataFrame(scores)"
   ]
  },
  {
   "cell_type": "code",
   "execution_count": 23,
   "metadata": {},
   "outputs": [
    {
     "data": {
      "text/html": [
       "<div>\n",
       "<style scoped>\n",
       "    .dataframe tbody tr th:only-of-type {\n",
       "        vertical-align: middle;\n",
       "    }\n",
       "\n",
       "    .dataframe tbody tr th {\n",
       "        vertical-align: top;\n",
       "    }\n",
       "\n",
       "    .dataframe thead th {\n",
       "        text-align: right;\n",
       "    }\n",
       "</style>\n",
       "<table border=\"1\" class=\"dataframe\">\n",
       "  <thead>\n",
       "    <tr style=\"text-align: right;\">\n",
       "      <th></th>\n",
       "      <th>query_uuid</th>\n",
       "      <th>query_index</th>\n",
       "      <th>target_uuid</th>\n",
       "      <th>target_index</th>\n",
       "      <th>query_unique_count</th>\n",
       "      <th>target_unique_count</th>\n",
       "      <th>query_count</th>\n",
       "      <th>target_count</th>\n",
       "      <th>intersection_size</th>\n",
       "      <th>union_size</th>\n",
       "      <th>jaccard_score</th>\n",
       "      <th>cosine_score</th>\n",
       "      <th>containment_score</th>\n",
       "      <th>containment_min_score</th>\n",
       "      <th>containment_max_score</th>\n",
       "    </tr>\n",
       "  </thead>\n",
       "  <tbody>\n",
       "    <tr>\n",
       "      <th>0</th>\n",
       "      <td>65c567f1-727c-45c5-81c2-11776037bc5c</td>\n",
       "      <td>2</td>\n",
       "      <td>47f03418-a0be-4353-aff7-bfcc756df4a1</td>\n",
       "      <td>13</td>\n",
       "      <td>12</td>\n",
       "      <td>13</td>\n",
       "      <td>12</td>\n",
       "      <td>2724</td>\n",
       "      <td>12</td>\n",
       "      <td>13</td>\n",
       "      <td>0.923077</td>\n",
       "      <td>0.960769</td>\n",
       "      <td>1.000000</td>\n",
       "      <td>1.000000</td>\n",
       "      <td>0.923077</td>\n",
       "    </tr>\n",
       "    <tr>\n",
       "      <th>1</th>\n",
       "      <td>65c567f1-727c-45c5-81c2-11776037bc5c</td>\n",
       "      <td>2</td>\n",
       "      <td>47f03418-a0be-4353-aff7-bfcc756df4a1</td>\n",
       "      <td>12</td>\n",
       "      <td>12</td>\n",
       "      <td>13</td>\n",
       "      <td>12</td>\n",
       "      <td>2724</td>\n",
       "      <td>1</td>\n",
       "      <td>24</td>\n",
       "      <td>0.041667</td>\n",
       "      <td>0.080064</td>\n",
       "      <td>0.083333</td>\n",
       "      <td>0.083333</td>\n",
       "      <td>0.076923</td>\n",
       "    </tr>\n",
       "    <tr>\n",
       "      <th>2</th>\n",
       "      <td>65c567f1-727c-45c5-81c2-11776037bc5c</td>\n",
       "      <td>3</td>\n",
       "      <td>47f03418-a0be-4353-aff7-bfcc756df4a1</td>\n",
       "      <td>13</td>\n",
       "      <td>12</td>\n",
       "      <td>13</td>\n",
       "      <td>12</td>\n",
       "      <td>2724</td>\n",
       "      <td>1</td>\n",
       "      <td>24</td>\n",
       "      <td>0.041667</td>\n",
       "      <td>0.080064</td>\n",
       "      <td>0.083333</td>\n",
       "      <td>0.083333</td>\n",
       "      <td>0.076923</td>\n",
       "    </tr>\n",
       "    <tr>\n",
       "      <th>3</th>\n",
       "      <td>65c567f1-727c-45c5-81c2-11776037bc5c</td>\n",
       "      <td>3</td>\n",
       "      <td>47f03418-a0be-4353-aff7-bfcc756df4a1</td>\n",
       "      <td>12</td>\n",
       "      <td>12</td>\n",
       "      <td>13</td>\n",
       "      <td>12</td>\n",
       "      <td>2724</td>\n",
       "      <td>11</td>\n",
       "      <td>14</td>\n",
       "      <td>0.785714</td>\n",
       "      <td>0.880705</td>\n",
       "      <td>0.916667</td>\n",
       "      <td>0.916667</td>\n",
       "      <td>0.846154</td>\n",
       "    </tr>\n",
       "    <tr>\n",
       "      <th>4</th>\n",
       "      <td>534e80eb-00e5-4178-abcb-898dbe6c6611</td>\n",
       "      <td>0</td>\n",
       "      <td>748f4ec1-0fb7-4fe2-acbe-6700f364612e</td>\n",
       "      <td>0</td>\n",
       "      <td>43</td>\n",
       "      <td>43</td>\n",
       "      <td>43</td>\n",
       "      <td>43</td>\n",
       "      <td>2</td>\n",
       "      <td>84</td>\n",
       "      <td>0.023810</td>\n",
       "      <td>0.046512</td>\n",
       "      <td>0.046512</td>\n",
       "      <td>0.046512</td>\n",
       "      <td>0.046512</td>\n",
       "    </tr>\n",
       "    <tr>\n",
       "      <th>...</th>\n",
       "      <td>...</td>\n",
       "      <td>...</td>\n",
       "      <td>...</td>\n",
       "      <td>...</td>\n",
       "      <td>...</td>\n",
       "      <td>...</td>\n",
       "      <td>...</td>\n",
       "      <td>...</td>\n",
       "      <td>...</td>\n",
       "      <td>...</td>\n",
       "      <td>...</td>\n",
       "      <td>...</td>\n",
       "      <td>...</td>\n",
       "      <td>...</td>\n",
       "      <td>...</td>\n",
       "    </tr>\n",
       "    <tr>\n",
       "      <th>6788565</th>\n",
       "      <td>5a3f68ac-7108-4356-87fa-51f3bf60a1fb</td>\n",
       "      <td>5</td>\n",
       "      <td>f02efc1b-ecff-4796-a33b-7f1c041050c6</td>\n",
       "      <td>2</td>\n",
       "      <td>22</td>\n",
       "      <td>15</td>\n",
       "      <td>22</td>\n",
       "      <td>15</td>\n",
       "      <td>1</td>\n",
       "      <td>36</td>\n",
       "      <td>0.027778</td>\n",
       "      <td>0.055048</td>\n",
       "      <td>0.045455</td>\n",
       "      <td>0.066667</td>\n",
       "      <td>0.045455</td>\n",
       "    </tr>\n",
       "    <tr>\n",
       "      <th>6788566</th>\n",
       "      <td>5a3f68ac-7108-4356-87fa-51f3bf60a1fb</td>\n",
       "      <td>5</td>\n",
       "      <td>5c8930a1-f081-42a5-98e6-11f480d03356</td>\n",
       "      <td>2</td>\n",
       "      <td>22</td>\n",
       "      <td>5</td>\n",
       "      <td>22</td>\n",
       "      <td>5</td>\n",
       "      <td>1</td>\n",
       "      <td>26</td>\n",
       "      <td>0.038462</td>\n",
       "      <td>0.095346</td>\n",
       "      <td>0.045455</td>\n",
       "      <td>0.200000</td>\n",
       "      <td>0.045455</td>\n",
       "    </tr>\n",
       "    <tr>\n",
       "      <th>6788567</th>\n",
       "      <td>5a3f68ac-7108-4356-87fa-51f3bf60a1fb</td>\n",
       "      <td>5</td>\n",
       "      <td>b06da925-ae21-4e7b-a9fe-890183f2af8a</td>\n",
       "      <td>5</td>\n",
       "      <td>22</td>\n",
       "      <td>15</td>\n",
       "      <td>22</td>\n",
       "      <td>15</td>\n",
       "      <td>1</td>\n",
       "      <td>36</td>\n",
       "      <td>0.027778</td>\n",
       "      <td>0.055048</td>\n",
       "      <td>0.045455</td>\n",
       "      <td>0.066667</td>\n",
       "      <td>0.045455</td>\n",
       "    </tr>\n",
       "    <tr>\n",
       "      <th>6788568</th>\n",
       "      <td>5a3f68ac-7108-4356-87fa-51f3bf60a1fb</td>\n",
       "      <td>5</td>\n",
       "      <td>ce54b66b-3db4-4aa8-83c7-828e6ae676f5</td>\n",
       "      <td>5</td>\n",
       "      <td>22</td>\n",
       "      <td>5</td>\n",
       "      <td>22</td>\n",
       "      <td>5</td>\n",
       "      <td>1</td>\n",
       "      <td>26</td>\n",
       "      <td>0.038462</td>\n",
       "      <td>0.095346</td>\n",
       "      <td>0.045455</td>\n",
       "      <td>0.200000</td>\n",
       "      <td>0.045455</td>\n",
       "    </tr>\n",
       "    <tr>\n",
       "      <th>6788569</th>\n",
       "      <td>5a3f68ac-7108-4356-87fa-51f3bf60a1fb</td>\n",
       "      <td>5</td>\n",
       "      <td>87f5ca4a-c203-4b70-acde-c0b0fb08df70</td>\n",
       "      <td>5</td>\n",
       "      <td>22</td>\n",
       "      <td>5</td>\n",
       "      <td>22</td>\n",
       "      <td>5</td>\n",
       "      <td>1</td>\n",
       "      <td>26</td>\n",
       "      <td>0.038462</td>\n",
       "      <td>0.095346</td>\n",
       "      <td>0.045455</td>\n",
       "      <td>0.200000</td>\n",
       "      <td>0.045455</td>\n",
       "    </tr>\n",
       "  </tbody>\n",
       "</table>\n",
       "<p>6788570 rows × 15 columns</p>\n",
       "</div>"
      ],
      "text/plain": [
       "                                   query_uuid  query_index  \\\n",
       "0        65c567f1-727c-45c5-81c2-11776037bc5c            2   \n",
       "1        65c567f1-727c-45c5-81c2-11776037bc5c            2   \n",
       "2        65c567f1-727c-45c5-81c2-11776037bc5c            3   \n",
       "3        65c567f1-727c-45c5-81c2-11776037bc5c            3   \n",
       "4        534e80eb-00e5-4178-abcb-898dbe6c6611            0   \n",
       "...                                       ...          ...   \n",
       "6788565  5a3f68ac-7108-4356-87fa-51f3bf60a1fb            5   \n",
       "6788566  5a3f68ac-7108-4356-87fa-51f3bf60a1fb            5   \n",
       "6788567  5a3f68ac-7108-4356-87fa-51f3bf60a1fb            5   \n",
       "6788568  5a3f68ac-7108-4356-87fa-51f3bf60a1fb            5   \n",
       "6788569  5a3f68ac-7108-4356-87fa-51f3bf60a1fb            5   \n",
       "\n",
       "                                  target_uuid  target_index  \\\n",
       "0        47f03418-a0be-4353-aff7-bfcc756df4a1            13   \n",
       "1        47f03418-a0be-4353-aff7-bfcc756df4a1            12   \n",
       "2        47f03418-a0be-4353-aff7-bfcc756df4a1            13   \n",
       "3        47f03418-a0be-4353-aff7-bfcc756df4a1            12   \n",
       "4        748f4ec1-0fb7-4fe2-acbe-6700f364612e             0   \n",
       "...                                       ...           ...   \n",
       "6788565  f02efc1b-ecff-4796-a33b-7f1c041050c6             2   \n",
       "6788566  5c8930a1-f081-42a5-98e6-11f480d03356             2   \n",
       "6788567  b06da925-ae21-4e7b-a9fe-890183f2af8a             5   \n",
       "6788568  ce54b66b-3db4-4aa8-83c7-828e6ae676f5             5   \n",
       "6788569  87f5ca4a-c203-4b70-acde-c0b0fb08df70             5   \n",
       "\n",
       "         query_unique_count  target_unique_count  query_count  target_count  \\\n",
       "0                        12                   13           12          2724   \n",
       "1                        12                   13           12          2724   \n",
       "2                        12                   13           12          2724   \n",
       "3                        12                   13           12          2724   \n",
       "4                        43                   43           43            43   \n",
       "...                     ...                  ...          ...           ...   \n",
       "6788565                  22                   15           22            15   \n",
       "6788566                  22                    5           22             5   \n",
       "6788567                  22                   15           22            15   \n",
       "6788568                  22                    5           22             5   \n",
       "6788569                  22                    5           22             5   \n",
       "\n",
       "         intersection_size  union_size  jaccard_score  cosine_score  \\\n",
       "0                       12          13       0.923077      0.960769   \n",
       "1                        1          24       0.041667      0.080064   \n",
       "2                        1          24       0.041667      0.080064   \n",
       "3                       11          14       0.785714      0.880705   \n",
       "4                        2          84       0.023810      0.046512   \n",
       "...                    ...         ...            ...           ...   \n",
       "6788565                  1          36       0.027778      0.055048   \n",
       "6788566                  1          26       0.038462      0.095346   \n",
       "6788567                  1          36       0.027778      0.055048   \n",
       "6788568                  1          26       0.038462      0.095346   \n",
       "6788569                  1          26       0.038462      0.095346   \n",
       "\n",
       "         containment_score  containment_min_score  containment_max_score  \n",
       "0                 1.000000               1.000000               0.923077  \n",
       "1                 0.083333               0.083333               0.076923  \n",
       "2                 0.083333               0.083333               0.076923  \n",
       "3                 0.916667               0.916667               0.846154  \n",
       "4                 0.046512               0.046512               0.046512  \n",
       "...                    ...                    ...                    ...  \n",
       "6788565           0.045455               0.066667               0.045455  \n",
       "6788566           0.045455               0.200000               0.045455  \n",
       "6788567           0.045455               0.066667               0.045455  \n",
       "6788568           0.045455               0.200000               0.045455  \n",
       "6788569           0.045455               0.200000               0.045455  \n",
       "\n",
       "[6788570 rows x 15 columns]"
      ]
     },
     "execution_count": 23,
     "metadata": {},
     "output_type": "execute_result"
    }
   ],
   "source": [
    "df"
   ]
  },
  {
   "cell_type": "code",
   "execution_count": 24,
   "metadata": {},
   "outputs": [],
   "source": [
    "df.to_csv(\"key_join_scores.csv\", index=False)"
   ]
  }
 ],
 "metadata": {
  "interpreter": {
   "hash": "68cdfe722675e871828f64919eb61ac01cb269c1c68fec63f6617f81e27eb04c"
  },
  "kernelspec": {
   "display_name": "Python 3.9.2 64-bit ('venv': venv)",
   "language": "python",
   "name": "python3"
  },
  "language_info": {
   "codemirror_mode": {
    "name": "ipython",
    "version": 3
   },
   "file_extension": ".py",
   "mimetype": "text/x-python",
   "name": "python",
   "nbconvert_exporter": "python",
   "pygments_lexer": "ipython3",
   "version": "3.9.2"
  },
  "orig_nbformat": 4
 },
 "nbformat": 4,
 "nbformat_minor": 2
}
